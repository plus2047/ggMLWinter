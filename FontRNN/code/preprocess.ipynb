{
 "cells": [
  {
   "cell_type": "code",
   "execution_count": 1,
   "metadata": {},
   "outputs": [
    {
     "name": "stdout",
     "output_type": "stream",
     "text": [
      "total_bytes =  1068100\n",
      "char num =  3755\n"
     ]
    }
   ],
   "source": [
    "import os\n",
    "import struct\n",
    "\n",
    "file_name = \"../../casia/1241-c.pot\"\n",
    "outfile = '../data/1241-c.npz'  # filename for .npz file\n",
    "\n",
    "# Iterate files\n",
    "data_file = open(file_name, 'rb')\n",
    "total_bytes = os.path.getsize(file_name)\n",
    "print(\"total_bytes = \", total_bytes)\n",
    "current_bytes = 0\n",
    "word_count = 0\n",
    "\n",
    "# Iterate characters\n",
    "char_list = []\n",
    "while current_bytes != total_bytes:\n",
    "    data_length, = struct.unpack('H', data_file.read(2))  # 这一组数据字节数\n",
    "    # print(\"data_length = \", data_length)\n",
    "    \n",
    "    tag_code, = struct.unpack('I', data_file.read(4))\n",
    "    # print(\"tag_code = \", tag_code, tag_code.to_bytes(2, byteorder=\"big\").decode(\"GBK\"))\n",
    "    \n",
    "    stroke_number, = struct.unpack('H', data_file.read(2))  # 这一组数据有多少stroke\n",
    "    # print(\"stroke_number = \", stroke_number)\n",
    "\n",
    "    current_bytes += data_length\n",
    "    all_x_coor = []  # 里面有很多组stroke的坐标\n",
    "    all_y_coor = []\n",
    "    # Iterate strokes\n",
    "    for stroke_index in range(stroke_number):\n",
    "        stroke_x_coor = []  # 每一组stroke的坐标序列\n",
    "        stroke_y_coor = []\n",
    "        # Iterate coordinates of points\n",
    "        while 1:\n",
    "            x_buff = data_file.read(2)\n",
    "            y_buff = data_file.read(2)\n",
    "            x, = struct.unpack('h', x_buff)\n",
    "            y, = struct.unpack('h', y_buff)\n",
    "            if x == -1:\n",
    "                break\n",
    "            stroke_x_coor.append(x)\n",
    "            stroke_y_coor.append(y) \n",
    "        if len(stroke_x_coor) > 1:\n",
    "            all_x_coor.append(stroke_x_coor)\n",
    "            all_y_coor.append(stroke_y_coor)\n",
    "    end_tag1, = struct.unpack('h', data_file.read(2))\n",
    "    end_tag2, = struct.unpack('h', data_file.read(2))\n",
    "\n",
    "    char_list.append((all_x_coor, all_y_coor))\n",
    "    # break\n",
    "    \n",
    "print(\"char num = \", len(char_list))"
   ]
  },
  {
   "cell_type": "code",
   "execution_count": 2,
   "metadata": {},
   "outputs": [
    {
     "name": "stdout",
     "output_type": "stream",
     "text": [
      "3755\n",
      "[[476, 476, 495, 495], [496, 498, 511, 524, 528, 506, 504, 504, 510, 540, 539], [570, 569, 576, 589, 575, 593, 591, 588, 580, 573, 564, 558, 555], [559, 559, 558, 553, 544, 541], [629, 664, 673, 674, 668], [615, 614, 613, 619, 626, 630, 634, 649, 631, 621, 616, 615, 633, 640, 645, 645], [660, 659, 655, 650, 640, 631, 619, 605, 584]]\n",
      "[[6779, 6781, 6828, 6825], [6790, 6785, 6774, 6773, 6779, 6833, 6835, 6835, 6830, 6804, 6793], [6734, 6734, 6730, 6736, 6784, 6809, 6813, 6818, 6819, 6816, 6808, 6794, 6778], [6755, 6756, 6824, 6854, 6914, 6915], [6746, 6739, 6733, 6730, 6729], [6783, 6791, 6806, 6813, 6801, 6791, 6789, 6788, 6816, 6833, 6839, 6840, 6831, 6825, 6815, 6801], [6760, 6766, 6834, 6900, 6899, 6891, 6876, 6853, 6825]]\n"
     ]
    }
   ],
   "source": [
    "print(len(char_list))\n",
    "print(char_list[0][0])\n",
    "print(char_list[0][1])\n",
    "\n",
    "for i in range(len(char_list)):\n",
    "    cnt = 0\n",
    "    x_sum = 0\n",
    "    y_sum = 0\n",
    "    for j in range(len(char_list[i][0])):\n",
    "        for k in range(len(char_list[i][0][j])):\n",
    "            x_sum += char_list[i][0][j][k]\n",
    "            cnt += 1\n",
    "            y_sum += char_list[i][1][j][k]\n",
    "    # print(x_sum, y_sum, cnt)\n",
    "    x_avg = x_sum / cnt\n",
    "    y_avg = y_sum / cnt\n",
    "    for j in range(len(char_list[i][0])):\n",
    "        for k in range(len(char_list[i][0][j])):\n",
    "            char_list[i][0][j][k] -= x_avg\n",
    "            char_list[i][1][j][k] -= y_avg\n",
    "        \"\"\"\n",
    "        for k in range(len(char_list[i][0][j]), 0 , -1)\n",
    "            char_list[i][0][j][k] -= char_list[i][0][j][k-1]\n",
    "            char_list[i][1][j][k] -= char_list[i][1][j][k-1]\n",
    "        \"\"\"\n"
   ]
  },
  {
   "cell_type": "code",
   "execution_count": 3,
   "metadata": {},
   "outputs": [],
   "source": [
    "from matplotlib import pyplot as plt\n",
    "import numpy as np\n",
    "from rdp import rdp\n",
    "\n",
    "def smooth(i, eps):\n",
    "    x = char_list[i][0]\n",
    "    y = char_list[i][1]\n",
    "\n",
    "    strokes = []\n",
    "    for i in range(len(x)):\n",
    "        cur_stroke = []\n",
    "        for j in range(len(x[i])):\n",
    "            cur_stroke.append([x[i][j], y[i][j]])\n",
    "        strokes.append(cur_stroke)\n",
    "\n",
    "    new_strokes = []\n",
    "    for i in range(len(strokes)):\n",
    "        new_strokes.append(rdp(strokes[i], epsilon=eps))\n",
    "\n",
    "    new_x = []\n",
    "    new_y = []\n",
    "    for i in range(len(strokes)):\n",
    "        cur_x = []\n",
    "        cur_y = []\n",
    "        for j in range(len(new_strokes[i])):\n",
    "            cur_x.append(new_strokes[i][j][0])\n",
    "            cur_y.append(new_strokes[i][j][1])\n",
    "        new_x.append(cur_x)\n",
    "        new_y.append(cur_y)\n",
    "    \n",
    "    points = []\n",
    "    for i in range(len(new_x)):\n",
    "        for j in range(len(new_x[i])):\n",
    "            if j != len(new_x[i]) - 1:\n",
    "                points.append([new_x[i][j], new_y[i][j], 0])\n",
    "            else:\n",
    "                points.append([new_x[i][j], new_y[i][j], 1])\n",
    "                \n",
    "    for i in range(len(points) - 1, 0, -1):\n",
    "        points[i][0] -= points[i-1][0]\n",
    "        points[i][1] -= points[i-1][1]\n",
    "    points[0][0] = 0\n",
    "    points[0][1] = 0\n",
    "    \n",
    "    return np.array(points)\n",
    "\n",
    "def draw(x, y, new_x, new_y):\n",
    "    for i in range(len(x)):\n",
    "        plt.plot(x[i], y[i], color='black', linewidth=3)\n",
    "    plt.show()\n",
    "    for i in range(len(x)):\n",
    "        plt.plot(new_x[i], new_y[i], color='black', linewidth=3)\n",
    "    plt.show()"
   ]
  },
  {
   "cell_type": "code",
   "execution_count": 4,
   "metadata": {},
   "outputs": [],
   "source": [
    "def draw(delta_gt_stroke, delta_stroke):\n",
    "    # (16, 3), (16, 3)\n",
    "    ground_truth_stroke = delta_gt_stroke.copy()\n",
    "    stroke = delta_stroke.copy()\n",
    "    \n",
    "    # convert to absolute coordinate\n",
    "    scale_factor = 300\n",
    "    low_tri_matrix = np.tril(np.ones((delta_gt_stroke.shape[0], delta_gt_stroke.shape[0])), 0)\n",
    "    ground_truth_stroke[:, :2] = np.rint(scale_factor * np.matmul(low_tri_matrix, delta_gt_stroke[:, :2]))\n",
    "    low_tri_matrix = np.tril(np.ones((delta_stroke.shape[0], delta_stroke.shape[0])), 0)\n",
    "    stroke[:, :2] = np.rint(scale_factor * np.matmul(low_tri_matrix, delta_stroke[:, :2]))\n",
    "\n",
    "    plt.figure(figsize=(6, 3))\n",
    "    plt.subplot(121)\n",
    "    # plt.xlim(0, 300)\n",
    "    # plt.ylim(0, 300)\n",
    "    pre_i = 0\n",
    "    for i in range(ground_truth_stroke.shape[0]):\n",
    "        if ground_truth_stroke[i][2] == 1:\n",
    "            plt.plot(ground_truth_stroke[pre_i:i + 1, 0], ground_truth_stroke[pre_i:i + 1, 1], color='black', linewidth=3)\n",
    "            pre_i = i + 1\n",
    "    plt.axis('off')\n",
    "    plt.gca().invert_yaxis()\n",
    "    plt.title(\"Groud Truth\")\n",
    "\n",
    "    plt.subplot(122)\n",
    "    # plt.xlim(0, 300)\n",
    "    # plt.ylim(0, 300)\n",
    "    pre_i = 0\n",
    "    cnt = 0\n",
    "    tot = 0\n",
    "    for s in stroke:\n",
    "        if s[2] == 1:\n",
    "            tot += 1\n",
    "    print(\"tot = \", tot)\n",
    "    for i in range(stroke.shape[0]):\n",
    "        if stroke[i][2] == 1:\n",
    "            cnt += 1\n",
    "            if cnt < int(tot / 2):\n",
    "                plt.plot(stroke[pre_i:i + 1, 0], stroke[pre_i:i + 1, 1], color='black', linewidth=3)  # 9 / 13\n",
    "            else:\n",
    "                plt.plot(stroke[pre_i:i + 1, 0], stroke[pre_i:i + 1, 1], color='black', linewidth=3)  # 9 / 13\n",
    "            pre_i = i + 1\n",
    "    print(\"cnt = \", cnt)\n",
    "    plt.axis('off')\n",
    "    plt.gca().invert_yaxis()\n",
    "    plt.title(\"Generated\")\n",
    "\n",
    "    plt.show()"
   ]
  },
  {
   "cell_type": "code",
   "execution_count": 5,
   "metadata": {},
   "outputs": [],
   "source": [
    "dataset = []\n",
    "for i in range(len(char_list)):\n",
    "    points = smooth(i, 8)\n",
    "    dataset.append(points)\n",
    "\n",
    "np.savez(outfile, test_data=dataset)\n"
   ]
  },
  {
   "cell_type": "code",
   "execution_count": 33,
   "metadata": {},
   "outputs": [
    {
     "data": {
      "text/plain": [
       "['train', 'std_train', 'test', 'std_test', 'valid', 'std_valid']"
      ]
     },
     "execution_count": 33,
     "metadata": {},
     "output_type": "execute_result"
    }
   ],
   "source": [
    "data = np.load('../data/FZTLJW_775.npz', allow_pickle=True, encoding='latin1')\n",
    "data.files"
   ]
  },
  {
   "cell_type": "code",
   "execution_count": 39,
   "metadata": {},
   "outputs": [],
   "source": [
    "file1 = np.load('../data/FZTLJW_775.npz', allow_pickle=True, encoding='latin1')\n",
    "file2 = np.load('../data/FZTLJW_775.npz', allow_pickle=True, encoding='latin1')\n",
    "\n",
    "draw(file1['test_data'][0], file2['test_data'][0])"
   ]
  },
  {
   "cell_type": "code",
   "execution_count": null,
   "metadata": {},
   "outputs": [],
   "source": []
  }
 ],
 "metadata": {
  "kernelspec": {
   "display_name": "Python 3.7.4 64-bit ('base': conda)",
   "language": "python",
   "name": "python37464bitbasecondadf2078d8cf6840fe91ee674d4f39d609"
  },
  "language_info": {
   "codemirror_mode": {
    "name": "ipython",
    "version": 3
   },
   "file_extension": ".py",
   "mimetype": "text/x-python",
   "name": "python",
   "nbconvert_exporter": "python",
   "pygments_lexer": "ipython3",
   "version": "3.7.4"
  }
 },
 "nbformat": 4,
 "nbformat_minor": 2
}
