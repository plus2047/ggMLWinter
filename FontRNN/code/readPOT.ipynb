{
 "cells": [
  {
   "cell_type": "code",
   "execution_count": 11,
   "metadata": {},
   "outputs": [
    {
     "name": "stdout",
     "output_type": "stream",
     "text": "total_bytes =  1068100\n"
    }
   ],
   "source": [
    "import os\n",
    "import struct\n",
    "\n",
    "file_name = \"1241-c.pot\"\n",
    "# Iterate files\n",
    "data_file = open(file_name, 'rb')\n",
    "total_bytes = os.path.getsize(file_name)\n",
    "print(\"total_bytes = \", total_bytes)\n",
    "current_bytes = 0\n",
    "word_count = 0\n",
    "\n",
    "# Iterate characters\n",
    "char_list = []\n",
    "tag_list = []\n",
    "while current_bytes != total_bytes:\n",
    "    data_length, = struct.unpack('H', data_file.read(2))  # 这一组数据字节数\n",
    "    # print(\"data_length = \", data_length)\n",
    "    \n",
    "    tag_code, = struct.unpack('I', data_file.read(4))\n",
    "    # print(\"tag_code = \", tag_code)\n",
    "    tag_list.append(tag_code)\n",
    "    \n",
    "    stroke_number, = struct.unpack('H', data_file.read(2))  # 这一组数据有多少stroke\n",
    "    # print(\"stroke_number = \", stroke_number)\n",
    "\n",
    "    current_bytes += data_length\n",
    "    all_x_coor = []  # 里面有很多组stroke的坐标\n",
    "    all_y_coor = []\n",
    "    # Iterate strokes\n",
    "    for stroke_index in range(stroke_number):\n",
    "        stroke_x_coor = []  # 每一组stroke的坐标序列\n",
    "        stroke_y_coor = []\n",
    "        # Iterate coordinates of points\n",
    "        while 1:\n",
    "            x_buff = data_file.read(2)\n",
    "            y_buff = data_file.read(2)\n",
    "            x, = struct.unpack('h', x_buff)\n",
    "            y, = struct.unpack('h', y_buff)\n",
    "            if x == -1:\n",
    "                break\n",
    "            stroke_x_coor.append(x)\n",
    "            stroke_y_coor.append(y)\n",
    "        if len(stroke_x_coor) > 1:\n",
    "            all_x_coor.append(stroke_x_coor)\n",
    "            all_y_coor.append(stroke_y_coor)\n",
    "    end_tag1, = struct.unpack('h', data_file.read(2))\n",
    "    end_tag2, = struct.unpack('h', data_file.read(2))\n",
    "\n",
    "    char_list.append((all_x_coor, all_y_coor))"
   ]
  },
  {
   "cell_type": "code",
   "execution_count": 46,
   "metadata": {},
   "outputs": [
    {
     "name": "stdout",
     "output_type": "stream",
     "text": "啊\n阿\n埃\n挨\n哎\n唉\n哀\n皑\n癌\n蔼\n"
    }
   ],
   "source": [
    "for tag in tag_list[:10]:\n",
    "    b = tag.to_bytes(2, byteorder=\"big\")\n",
    "    print(b.decode(\"GBK\"))"
   ]
  }
 ],
 "metadata": {
  "kernelspec": {
   "display_name": "Python 3.7.4 64-bit ('base': conda)",
   "language": "python",
   "name": "python37464bitbasecondadf2078d8cf6840fe91ee674d4f39d609"
  },
  "language_info": {
   "codemirror_mode": {
    "name": "ipython",
    "version": 3
   },
   "file_extension": ".py",
   "mimetype": "text/x-python",
   "name": "python",
   "nbconvert_exporter": "python",
   "pygments_lexer": "ipython3",
   "version": "3.7.4-final"
  }
 },
 "nbformat": 4,
 "nbformat_minor": 2
}